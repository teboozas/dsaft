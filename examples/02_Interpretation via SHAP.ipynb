{
 "cells": [
  {
   "cell_type": "markdown",
   "metadata": {},
   "source": [
    "# Example for interpretation via SHAP\n",
    "\n",
    "In this notebook, we wiil show how interpret output from DSAFT model via [SHAP](https://github.com/slundberg/shap). Example includes generating synthetic dataset, training, interpretation"
   ]
  },
  {
   "cell_type": "code",
   "execution_count": 1,
   "metadata": {},
   "outputs": [],
   "source": [
    "import numpy as np\n",
    "import torch\n",
    "import pickle\n",
    "import shap\n",
    "\n",
    "from torch import nn, optim\n",
    "from torch.nn import functional as F\n",
    "from torch.utils.data import TensorDataset, DataLoader\n",
    "\n",
    "from pytorch_lightning.core.lightning import LightningModule\n",
    "from pytorch_lightning import Trainer\n",
    "from pytorch_lightning.callbacks import EarlyStopping\n",
    "from pytorch_lightning.callbacks.progress import ProgressBar\n",
    "\n",
    "from tqdm.notebook import trange\n",
    "\n",
    "from pycox import datasets"
   ]
  },
  {
   "cell_type": "markdown",
   "metadata": {},
   "source": [
    "### Synthetic dataset\n",
    "\n",
    "Dataset for simulation study was build under standard survival data setting. In this example, data is generated from non-linear relationship of 6 covariates (features) to show compatibility of DNN toward non-linear setting.\n",
    "\n",
    "$$\n",
    "\\log(\\text{Time}) = X_1 + 3X_2^3X_3 + X_2X_3^2 + 0\\times(X_4 + X_5 + X_6) + \\epsilon\n",
    "$$\n",
    "\n",
    "where $X_1,\\cdots,X_6 \\overset{i.i.d.}{\\sim}Uniform(-3, 3)$ and $e^{\\epsilon}\\sim Exp(1)$.\n",
    "\n",
    "Coeffitients for $X_4, X_5, X_6$ were set 0 to show 'automatic variable selection' of DNN architect"
   ]
  },
  {
   "cell_type": "code",
   "execution_count": 2,
   "metadata": {},
   "outputs": [],
   "source": [
    "def get_surv_simul(ratio, seed, sample_size = 1000):\n",
    "    \n",
    "    n = sample_size\n",
    "    x1 = np.random.uniform(-3, 3, size = n)\n",
    "    x2 = np.random.uniform(-3, 3, size = n)\n",
    "    x3 = np.random.uniform(-3, 3, size = n)\n",
    "    x4 = np.random.uniform(-3, 3, size = n)\n",
    "    x5 = np.random.uniform(-3, 3, size = n)\n",
    "    x6 = np.random.uniform(-3, 3, size = n)\n",
    "    time = np.exp(x1 + 3 * (x2**3) * x3 + x2 * (x3**2)) + np.random.exponential(1, size = n)\n",
    "    cens = np.random.uniform(0, 20, size = n)\n",
    "    delta = (time <= cens)*1\n",
    "    y = np.min([time, cens], axis = 0)\n",
    "    \n",
    "    x = np.hstack((x1.reshape(-1,1), x2.reshape(-1,1), x3.reshape(-1,1),\n",
    "                   x4.reshape(-1,1), x5.reshape(-1,1), x6.reshape(-1,1)))\n",
    "    x = np.array(x, dtype = np.float)\n",
    "    y = np.array(y.reshape(-1,1), dtype = np.float)\n",
    "    delta = np.array(delta.reshape(-1,1), dtype = np.int)\n",
    "        \n",
    "    n = x.shape[0]\n",
    "    dim = x.shape[1]\n",
    "    \n",
    "    np.random.seed(seed)\n",
    "    indices = np.array([i for i in range(n)])\n",
    "    np.random.shuffle(indices)\n",
    "    train_size = int(np.round(n * ratio[0]))\n",
    "    val_size = int(np.round((n - train_size) * (ratio[1] / (ratio[1] + ratio[2]))))\n",
    "    test_size = n - (train_size + val_size)\n",
    "    \n",
    "    train_idx = indices[:train_size]\n",
    "    val_idx = indices[train_size:(train_size + val_size)]\n",
    "    test_idx = indices[(train_size + val_size):]\n",
    "    \n",
    "    x_train, y_train, delta_train = x[train_idx], y[train_idx], delta[train_idx]\n",
    "    x_val, y_val, delta_val = x[val_idx], y[val_idx], delta[val_idx]\n",
    "    x_test, y_test, delta_test = x[test_idx], y[test_idx], delta[test_idx]\n",
    "    \n",
    "    train_data = TensorDataset(torch.tensor(x_train, dtype = torch.float32),\n",
    "                               torch.tensor(y_train, dtype = torch.float32),\n",
    "                               torch.tensor(delta_train, dtype = torch.float32))\n",
    "\n",
    "    val_data = TensorDataset(torch.tensor(x_val, dtype = torch.float32),\n",
    "                             torch.tensor(y_val, dtype = torch.float32),\n",
    "                             torch.tensor(delta_val, dtype = torch.float32))\n",
    "\n",
    "    test_data = TensorDataset(torch.tensor(x_test, dtype = torch.float32),\n",
    "                              torch.tensor(y_test, dtype = torch.float32),\n",
    "                              torch.tensor(delta_test, dtype = torch.float32))\n",
    "\n",
    "    \n",
    "    # return data, label, censoring indicators into TorchDataset format\n",
    "    # (to exploit PyTorch framework or Pytorch Lightning)\n",
    "    return dim, train_data, val_data, test_data"
   ]
  },
  {
   "cell_type": "markdown",
   "metadata": {},
   "source": [
    "### Loss functions\n",
    "\n",
    "We have implemented 4 classes of DSAFT loss; weighted-rank estimator type, mean-absolute-error (MAE) type, root-mean-squared-error type (RMSE), and negative kernel-smoothed profile likelihood type.\n",
    "\n",
    "In this example, we will use RMSE-type DSAFT loss."
   ]
  },
  {
   "cell_type": "code",
   "execution_count": 3,
   "metadata": {},
   "outputs": [],
   "source": [
    "def dsaft_rmse_loss(theta, durations, events):\n",
    "    '''\n",
    "    theta: prediction output from DNN layers\n",
    "    durations: log-scaled observed time (log(Y))\n",
    "    events: right-censoring-indicator (delta)\n",
    "    '''\n",
    "    # compute residual e_i\n",
    "    e = theta.sub(durations.view(-1, 1).add(1e-32).log()).neg()\n",
    "    \n",
    "    # sort e_i w.r.t values and store sorted indices\n",
    "    e_sorted = torch.sort(e.view(-1)).values\n",
    "    e_indices = torch.sort(e.view(-1)).indices.type(torch.float32)\n",
    "    \n",
    "    # sort durations(log(Y)), events(delta), and theta(output from DNN) w.r.t. sorted indices of e_i\n",
    "    tmp = torch.stack([e_indices, durations.view(-1), events.type(torch.float32).view(-1), theta.view(-1)], dim = 1)\n",
    "    tmp = tmp[tmp[:, 0].sort()[1]]\n",
    "    durations_sorted = tmp[:, 1]\n",
    "    events_sorted = tmp[:, 2]\n",
    "    theta_sorted = tmp[:, 3]\n",
    "    \n",
    "    # get risk set and removed (instances whose events had been occured)\n",
    "    at_risks = (e_sorted.view(-1, 1).sub(e_sorted) <= 0).mul(1)\n",
    "    removed = (e_sorted.view(-1, 1).sub(e_sorted) > 0).mul(1)\n",
    "    \n",
    "    # estimate survival function of e_i via KM estimator\n",
    "    surv = events_sorted.div(at_risks.sum(1)).sub(1).neg().abs().mul(removed).add(at_risks).prod(dim = 1)\n",
    "    \n",
    "    # estimate differential of F (cumulative density function) i.e. dF(u)\n",
    "    d_cdf = torch.cat([surv.sub(1).abs()[1:], torch.ones(1).to(surv.device)]).sub(surv.sub(1).abs())\n",
    "    \n",
    "    # evaluate conditional expectation of epsilon\n",
    "    cond_E = e_sorted.mul(d_cdf).mul(at_risks).sum(dim = 1).mul(surv.reciprocal()).add(theta_sorted)\n",
    "    \n",
    "    # evaluate y_hat: imputed y\n",
    "    imputed = events_sorted.mul(durations_sorted.add(1e-32).log().sub(cond_E)).add(cond_E)\n",
    "    \n",
    "    # takes MAE form rather than MSE for practically stable convergence\n",
    "    loss = imputed.sub(theta_sorted).pow(2).sum().mul(1 / e_sorted.shape[0]).pow(0.5)\n",
    "    \n",
    "    return loss"
   ]
  },
  {
   "cell_type": "markdown",
   "metadata": {},
   "source": [
    "### Model\n",
    "\n",
    "In this example, 4-layered MLP with dropout and batch-norm was used. [PyTorch Lightning](https://github.com/PyTorchLightning/pytorch-lightning) was exploited to implement model."
   ]
  },
  {
   "cell_type": "code",
   "execution_count": 4,
   "metadata": {},
   "outputs": [],
   "source": [
    "class DeepModel_4L_testing(LightningModule):\n",
    "    \n",
    "    def __init__(self, dropout_rate, batch_size, loss_func, sample_size, ratio, nodes, weight_decay, seed):\n",
    "        super().__init__()\n",
    "        \n",
    "        self.nodes = nodes\n",
    "        self.weight_decay = weight_decay\n",
    "        self.dropout_rate = dropout_rate\n",
    "        self.batch_size = batch_size\n",
    "        self.loss_func = loss_func\n",
    "        self.sample_size = sample_size\n",
    "        self.ratio = ratio\n",
    "        self.seed = seed\n",
    "\n",
    "        dim, train_data, val_data, test_data = get_surv_simul(self.ratio, self.seed, self.sample_size)\n",
    "        self.train_data = train_data\n",
    "        self.val_data = val_data\n",
    "        self.test_data = test_data\n",
    "        \n",
    "        self.layer_1 = torch.nn.Linear(dim, self.nodes)\n",
    "        self.bn_1d_1 = torch.nn.BatchNorm1d(self.nodes)\n",
    "        self.do_1 = torch.nn.Dropout(self.dropout_rate)\n",
    "        self.layer_2 = torch.nn.Linear(self.nodes, self.nodes)\n",
    "        self.bn_1d_2 = torch.nn.BatchNorm1d(self.nodes)\n",
    "        self.do_2 = torch.nn.Dropout(self.dropout_rate)\n",
    "        self.layer_3 = torch.nn.Linear(self.nodes, self.nodes)\n",
    "        self.bn_1d_3 = torch.nn.BatchNorm1d(self.nodes)\n",
    "        self.do_3 = torch.nn.Dropout(self.dropout_rate)\n",
    "        self.layer_4 = torch.nn.Linear(self.nodes, self.nodes)\n",
    "        self.bn_1d_4 = torch.nn.BatchNorm1d(self.nodes)\n",
    "        self.do_4 = torch.nn.Dropout(self.dropout_rate)\n",
    "        self.layer_out = torch.nn.Linear(self.nodes, 1, bias = False)\n",
    "\n",
    "    def forward(self, x):\n",
    "        x = self.layer_1(x)\n",
    "        x = torch.relu(x)\n",
    "        x = self.bn_1d_1(x)\n",
    "        x = self.do_1(x)\n",
    "\n",
    "        x = self.layer_2(x)\n",
    "        x = torch.relu(x)\n",
    "        x = self.bn_1d_2(x)\n",
    "        x = self.do_2(x)\n",
    "        \n",
    "        x = self.layer_3(x)\n",
    "        x = torch.relu(x)\n",
    "        x = self.bn_1d_3(x)\n",
    "        x = self.do_3(x)\n",
    "        \n",
    "        x = self.layer_4(x)\n",
    "        x = torch.relu(x)\n",
    "        x = self.bn_1d_4(x)\n",
    "        x = self.do_4(x)\n",
    "\n",
    "        x = self.layer_out(x)\n",
    "        return x\n",
    "\n",
    "    def configure_optimizers(self):\n",
    "        return torch.optim.AdamW(self.parameters(), weight_decay = self.weight_decay)\n",
    "    \n",
    "    def train_dataloader(self):\n",
    "        return DataLoader(self.train_data, batch_size = self.batch_size)\n",
    "    \n",
    "    def val_dataloader(self):\n",
    "        return DataLoader(self.val_data, batch_size = self.batch_size)\n",
    "    \n",
    "    def test_dataloader(self):\n",
    "        return DataLoader(self.test_data, batch_size = self.batch_size)\n",
    "\n",
    "    def training_step(self, batch, batch_idx):\n",
    "        x, y, delta = batch\n",
    "        theta = self(x)\n",
    "        loss = self.loss_func(theta, y, delta)\n",
    "        return {'loss': loss}\n",
    "    \n",
    "    def validation_step(self, batch, batch_idx):\n",
    "        x, y, delta = batch\n",
    "        theta = self(x)\n",
    "        loss = self.loss_func(theta, y, delta)\n",
    "        return {'val_loss': loss}\n",
    "    \n",
    "    def validation_epoch_end(self, outputs):\n",
    "        avg_loss = torch.stack([x['val_loss'] for x in outputs]).mean()\n",
    "        return {'val_loss': avg_loss}\n",
    "    \n",
    "    def test_step(self, batch, batch_idx):\n",
    "        x, y, delta = batch\n",
    "        theta = self(x)\n",
    "        loss = self.loss_func(theta, y, delta)\n",
    "        return {'val_loss': loss}\n",
    "    \n",
    "    def test_epoch_end(self, outputs):\n",
    "        avg_loss = torch.stack([x['val_loss'] for x in outputs]).mean()\n",
    "        return {'val_loss_end': avg_loss}"
   ]
  },
  {
   "cell_type": "markdown",
   "metadata": {},
   "source": [
    "### Training\n",
    "\n",
    "1,000 synthetic samples were generated to train model, splitted into training / validation / test set with ratio 50% / 30% / 20%. Nodes per layer of model were set 256."
   ]
  },
  {
   "cell_type": "code",
   "execution_count": 5,
   "metadata": {},
   "outputs": [],
   "source": [
    "early_stopping = EarlyStopping(monitor = 'val_loss', min_delta = 1e-8, patience = 5, mode = 'min')\n",
    "bar = ProgressBar()\n",
    "bar.disable()"
   ]
  },
  {
   "cell_type": "code",
   "execution_count": 6,
   "metadata": {},
   "outputs": [],
   "source": [
    "dsaft = DeepModel_4L_testing(dropout_rate = 0.2, batch_size = 99999, loss_func = dsaft_rmse_loss,\n",
    "                                sample_size = 1000, ratio = (0.5, 0.3, 0.2), nodes = 256,\n",
    "                                weight_decay = 0.0, seed = 1905)"
   ]
  },
  {
   "cell_type": "code",
   "execution_count": 7,
   "metadata": {},
   "outputs": [
    {
     "name": "stderr",
     "output_type": "stream",
     "text": [
      "GPU available: True, used: False\n",
      "TPU available: False, using: 0 TPU cores\n",
      "GPU available but not used. Set the --gpus flag when calling the script.\n",
      "The validation_epoch_end should not return anything as of 9.1.to log, use self.log(...) or self.write(...) directly in the LightningModule\n"
     ]
    },
    {
     "name": "stdout",
     "output_type": "stream",
     "text": [
      "Wall time: 41.2 s\n"
     ]
    }
   ],
   "source": [
    "%%time\n",
    "Trainer(logger = False, checkpoint_callback = False,\n",
    "        callbacks = [bar], auto_select_gpus = True,\n",
    "        auto_lr_find = True, max_epochs = 500, weights_summary = None).fit(dsaft)\n",
    "_ = dsaft.eval()\n",
    "_ = dsaft.cpu()"
   ]
  },
  {
   "cell_type": "markdown",
   "metadata": {},
   "source": [
    "### Interpretation with SHAP"
   ]
  },
  {
   "cell_type": "code",
   "execution_count": 8,
   "metadata": {},
   "outputs": [],
   "source": [
    "dim, train, val, test = get_surv_simul(sample_size = 1000, ratio = (0.5, 0.3, 0.2), seed = 1905)\n",
    "test_x, test_y, test_delta = test.tensors\n",
    "train_x, train_y, train_delta = test.tensors"
   ]
  },
  {
   "cell_type": "code",
   "execution_count": 9,
   "metadata": {},
   "outputs": [],
   "source": [
    "e = shap.DeepExplainer(model = dsaft, data = test_x)"
   ]
  },
  {
   "cell_type": "code",
   "execution_count": 10,
   "metadata": {},
   "outputs": [],
   "source": [
    "# compute SHAP score for test dataset\n",
    "shap_values = e.shap_values(test_x)"
   ]
  },
  {
   "cell_type": "code",
   "execution_count": 11,
   "metadata": {},
   "outputs": [],
   "source": [
    "names = [\"X1\", \"X2\", \"X3\", \"X4\", \"X5\", \"X6\"]"
   ]
  },
  {
   "cell_type": "code",
   "execution_count": 12,
   "metadata": {},
   "outputs": [
    {
     "data": {
      "image/png": "[encoded data removed]",
      "text/plain": [
       "<Figure size 576x280.8 with 2 Axes>"
      ]
     },
     "metadata": {
      "needs_background": "light"
     },
     "output_type": "display_data"
    }
   ],
   "source": [
    "shap.summary_plot(shap_values, test_x, names)"
   ]
  },
  {
   "cell_type": "code",
   "execution_count": 26,
   "metadata": {},
   "outputs": [
    {
     "data": {
      "image/png": "[encoded data removed]",
      "text/plain": [
       "<Figure size 432x288 with 1 Axes>"
      ]
     },
     "metadata": {
      "needs_background": "light"
     },
     "output_type": "display_data"
    }
   ],
   "source": [
    "shap.bar_plot(shap_values[0], names)"
   ]
  },
  {
   "cell_type": "code",
   "execution_count": 16,
   "metadata": {},
   "outputs": [
    {
     "data": {
      "text/plain": [
       "tensor([0.2626])"
      ]
     },
     "execution_count": 16,
     "metadata": {},
     "output_type": "execute_result"
    }
   ],
   "source": [
    "test_y[0]"
   ]
  },
  {
   "cell_type": "code",
   "execution_count": 25,
   "metadata": {},
   "outputs": [
    {
     "data": {
      "text/plain": [
       "tensor([0.2020], grad_fn=<ExpBackward>)"
      ]
     },
     "execution_count": 25,
     "metadata": {},
     "output_type": "execute_result"
    }
   ],
   "source": [
    "dsaft(test_x)[0].exp()"
   ]
  }
 ],
 "metadata": {
  "kernelspec": {
   "display_name": "Python 3",
   "language": "python",
   "name": "python3"
  },
  "language_info": {
   "codemirror_mode": {
    "name": "ipython",
    "version": 3
   },
   "file_extension": ".py",
   "mimetype": "text/x-python",
   "name": "python",
   "nbconvert_exporter": "python",
   "pygments_lexer": "ipython3",
   "version": "3.7.6"
  }
 },
 "nbformat": 4,
 "nbformat_minor": 4
}
