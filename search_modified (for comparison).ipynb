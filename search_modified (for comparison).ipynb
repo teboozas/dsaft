{
 "cells": [
  {
   "cell_type": "code",
   "execution_count": 1,
   "metadata": {},
   "outputs": [],
   "source": [
    "import warnings\n",
    "import numpy as np\n",
    "import pandas as pd\n",
    "import matplotlib.pyplot as plt\n",
    "from sklearn.preprocessing import StandardScaler\n",
    "from sklearn_pandas import DataFrameMapper\n",
    "\n",
    "import torch\n",
    "import torchtuples as tt\n",
    "from torch import Tensor, tensor\n",
    "\n",
    "from pycox.models import CoxPH, CoxTime, DeepHitSingle\n",
    "from pycox.models.cox_time import MLPVanillaCoxTime\n",
    "from pycox.evaluation import EvalSurv\n",
    "\n",
    "from lifelines import KaplanMeierFitter, NelsonAalenFitter\n",
    "from lifelines.utils import concordance_index\n",
    "warnings.simplefilter(action='ignore', category = FutureWarning)\n",
    "warnings.simplefilter(action='ignore', category = RuntimeWarning)"
   ]
  },
  {
   "cell_type": "code",
   "execution_count": 2,
   "metadata": {},
   "outputs": [],
   "source": [
    "def get_surv(model, x_test, timegrid = None):\n",
    "    '''\n",
    "    model: PyCox model class or compatibles\n",
    "    x_test: covariate dataset to compute survival estimates\n",
    "    timegrid: option to set upperbound of time grid to \"Y\" of training dataset\n",
    "    '''\n",
    "    warnings.simplefilter(action='ignore', category = FutureWarning)\n",
    "    warnings.simplefilter(action='ignore', category = RuntimeWarning)\n",
    "    \n",
    "    x_train, target = model.training_data\n",
    "    y_train, delta_train = target\n",
    "    \n",
    "    # compute residual from training data\n",
    "    # exp_residual = np.nan_to_num(np.exp(np.log(y_train) - model.predict(x_train).reshape(-1)))\n",
    "\n",
    "    # compute exp(-theta) from test data to evaluate accelerating component\n",
    "    exp_predict = np.nan_to_num(np.exp(-model.predict(x_test)).reshape(-1))\n",
    "    \n",
    "    # estimate cumulative baseline hazard function\n",
    "    # based on training dataset\n",
    "    H = NelsonAalenFitter().fit(y_train, event_observed = delta_train).cumulative_hazard_\n",
    "    \n",
    "    # extract timegrid and estimated hazards\n",
    "    if timegrid == \"train\":\n",
    "        max_time = y_train.max()\n",
    "    else:\n",
    "        max_time = max(H.index)\n",
    "    \n",
    "    if H.shape[0] * exp_predict.shape[0] >= 6 * 10e7:        \n",
    "        l = round(6 * 10e7 / exp_predict.shape[0])\n",
    "        time_grid = np.quantile(a = H.loc[H.index <= max_time].index.values,\n",
    "                                q = [i / l for i in range(l + 1)],\n",
    "                                interpolation = 'nearest')\n",
    "    else:\n",
    "        time_grid = H.loc[H.index <= max_time].index.values\n",
    "    \n",
    "    H_base = H.loc[time_grid].values.reshape(-1)\n",
    "    \n",
    "    h_base = H_base[1:] - H_base[:-1]\n",
    "    h_base = np.repeat(h_base.reshape(-1, 1), exp_predict.shape[0], axis = 1)\n",
    "    \n",
    "    # evaluate conditional cumulative hazard estimates\n",
    "    # based on test dataset\n",
    "    surv = pd.DataFrame(np.exp(-np.cumsum(h_base * exp_predict, axis = 0)),\n",
    "                        index = time_grid[1:],\n",
    "                        columns = [i for i in range(exp_predict.shape[0])])\n",
    "    \n",
    "    surv.index.names = [\"duration\"]\n",
    "    \n",
    "    return surv"
   ]
  },
  {
   "cell_type": "code",
   "execution_count": 3,
   "metadata": {},
   "outputs": [],
   "source": [
    "def get_surv_residual(model, x_test, timegrid = None):\n",
    "    '''\n",
    "    model: PyCox model class or compatibles\n",
    "    x_test: covariate dataset to compute survival estimates\n",
    "    timegrid: option to set upperbound of time grid to \"Y\" of training dataset\n",
    "    '''\n",
    "    warnings.simplefilter(action='ignore', category = FutureWarning)\n",
    "    warnings.simplefilter(action='ignore', category = RuntimeWarning)\n",
    "    \n",
    "    x_train, target = model.training_data\n",
    "    y_train, delta_train = target\n",
    "    \n",
    "    # compute residual from training data\n",
    "    exp_residual = np.nan_to_num(np.exp(np.log(y_train) - model.predict(x_train).reshape(-1)))\n",
    "\n",
    "    # compute exp(-theta) from test data to evaluate accelerating component\n",
    "    exp_predict = np.nan_to_num(np.exp(-model.predict(x_test)).reshape(-1))\n",
    "    \n",
    "    # estimate cumulative baseline hazard function\n",
    "    # based on training dataset\n",
    "    H = NelsonAalenFitter().fit(exp_residual, event_observed = delta_train).cumulative_hazard_\n",
    "    \n",
    "    # extract timegrid and estimated hazards\n",
    "    if timegrid == \"train\":\n",
    "        max_time = y_train.max()\n",
    "    else:\n",
    "        max_time = max(H.index)\n",
    "    \n",
    "    if H.shape[0] * exp_predict.shape[0] >= 6 * 10e7:        \n",
    "        l = round(6 * 10e7 / exp_predict.shape[0])\n",
    "        time_grid = np.quantile(a = H.loc[H.index <= max_time].index.values,\n",
    "                                q = [i / l for i in range(l + 1)],\n",
    "                                interpolation = 'nearest')\n",
    "    else:\n",
    "        time_grid = H.loc[H.index <= max_time].index.values\n",
    "    \n",
    "    H_base = H.loc[time_grid].values.reshape(-1)\n",
    "    \n",
    "    h_base = H_base[1:] - H_base[:-1]\n",
    "    h_base = np.repeat(h_base.reshape(-1, 1), exp_predict.shape[0], axis = 1)\n",
    "    \n",
    "    # evaluate conditional cumulative hazard estimates\n",
    "    # based on test dataset\n",
    "    surv = pd.DataFrame(np.exp(-np.cumsum(h_base * exp_predict, axis = 0)),\n",
    "                        index = time_grid[1:],\n",
    "                        columns = [i for i in range(exp_predict.shape[0])])\n",
    "    \n",
    "    surv.index.names = [\"duration\"]\n",
    "    \n",
    "    return surv"
   ]
  },
  {
   "cell_type": "code",
   "execution_count": 80,
   "metadata": {},
   "outputs": [],
   "source": [
    "## DSAFT - rank loss function\n",
    "def dsaft_rank_loss(theta, durations, events, weight = None, alpha = 0.0, beta = 0.0, gamma = 0.0, delta = 0.0):\n",
    "    '''\n",
    "    theta: prediction output from DNN layers\n",
    "    durations: log-scaled observed time (log(Y))\n",
    "    events: right-censoring-indicator (delta)\n",
    "    '''\n",
    "    n = durations.shape[0]\n",
    "    \n",
    "    # compute residual e_i\n",
    "    e = theta.sub(durations.view(-1,1).add(1e-32).log()).neg()\n",
    "    \n",
    "    # evaluate loss function based on formula,\n",
    "    # mul(1 / e_vector.shape[0] ** 2) : scaling constant\n",
    "    \n",
    "    loss = e.sub(e.view(-1)).mul(e.sub(e.view(-1))<=0).abs().mul(events.view(-1,1)).sum().mul(1 / n ** 2)\n",
    "    \n",
    "    # penalty_1 = e.abs().sub(e).div(2).pow(2).mul(events.sub(1).abs()).sum().div(n).mul(alpha)\n",
    "    # penalty_2 = e.pow(2).mul(events).sum().div(n).mul(beta)\n",
    "    \n",
    "    penalty_1 = e.abs().add(e).div(2).pow(2).sum().div(n).mul(alpha)\n",
    "    penalty_2 = e.pow(2).sum().div(n).mul(beta)\n",
    "    penalty_3 = theta.pow(2).sum().div(n).mul(gamma)\n",
    "    \n",
    "#    grid_size = 1000\n",
    "    \n",
    "#    if n < 1000:\n",
    "#        grid_size = n\n",
    "        \n",
    "#    grid = np.round(np.linspace(0, grid_size - 1, 1000))\n",
    "#    t = theta[grid]\n",
    "#    y = durations[grid]\n",
    "#    d = events[grid]\n",
    "    \n",
    "#    first = t.neg().exp().neg().exp().pow(2).view(-1).mul(d.mul(y.view(-1,1).sub(y) >= 0)).sum(1)\n",
    "#    second = t.neg().exp().neg().exp().sub(1).neg().pow(2).view(-1).mul(y.view(-1,1).sub(y) < 0).sum(1)\n",
    "#    penalty_4 = first.add(second).sum().div(grid_size).mul(delta)\n",
    "    \n",
    "    return loss + penalty_1 + penalty_2 + penalty_3\n",
    "\n",
    "\n",
    "## Classes below\n",
    "class DSAFTRankLoss(torch.nn.Module):\n",
    "    def __init__(self, weight = None, alpha = 0.0, beta = 0.0, gamma = 0.0, delta = 0.0):\n",
    "        super(DSAFTRankLoss, self).__init__()\n",
    "        self.weight = weight\n",
    "        self.alpha = alpha\n",
    "        self.beta = beta\n",
    "        self.gamma = gamma\n",
    "        self.delta = delta\n",
    "    def forward(self, log_h: Tensor, durations: Tensor, events: Tensor) -> Tensor:\n",
    "        return dsaft_rank_loss(log_h, durations, events, weight = self.weight,\n",
    "                               alpha = self.alpha, beta = self.beta,\n",
    "                               gamma = self.gamma, delta = self.delta)"
   ]
  },
  {
   "cell_type": "code",
   "execution_count": 81,
   "metadata": {},
   "outputs": [],
   "source": [
    "np.random.seed(1234)\n",
    "torch.manual_seed(1234)\n",
    "frac = 1.0\n",
    "\n",
    "from kkbox import _DatasetKKBoxChurn\n",
    "kkbox_v1 = _DatasetKKBoxChurn()\n",
    "df_train = kkbox_v1.read_df(subset='train').sample(frac = frac)\n",
    "df_val = kkbox_v1.read_df(subset='val').sample(frac = frac)\n",
    "df_test = kkbox_v1.read_df(subset='test').sample(frac = frac)\n",
    "\n",
    "df_train[\"gender\"].replace('male', 1, inplace=True)\n",
    "df_train[\"gender\"].replace('female', 2, inplace=True)\n",
    "df_train[\"gender\"].replace(np.NaN, 0, inplace=True)\n",
    "\n",
    "df_val[\"gender\"].replace('male', 1, inplace=True)\n",
    "df_val[\"gender\"].replace('female', 2, inplace=True)\n",
    "df_val[\"gender\"].replace(np.NaN, 0, inplace=True)\n",
    "\n",
    "df_test[\"gender\"].replace('male', 1, inplace=True)\n",
    "df_test[\"gender\"].replace('female', 2, inplace=True)\n",
    "df_test[\"gender\"].replace(np.NaN, 0, inplace=True)"
   ]
  },
  {
   "cell_type": "code",
   "execution_count": 82,
   "metadata": {},
   "outputs": [],
   "source": [
    "cols_standardize = ['n_prev_churns', 'log_days_between_subs', 'log_days_since_reg_init' ,'age_at_start', 'log_payment_plan_days', 'log_plan_list_price', 'log_actual_amount_paid']\n",
    "cols_leave = ['is_auto_renew', 'is_cancel', 'strange_age', 'nan_days_since_reg_init', 'no_prev_churns']\n",
    "        \n",
    "standardize = [([col], StandardScaler()) for col in cols_standardize]\n",
    "leave = [(col, None) for col in cols_leave]\n",
    "\n",
    "x_mapper = DataFrameMapper(standardize + leave)"
   ]
  },
  {
   "cell_type": "code",
   "execution_count": 83,
   "metadata": {},
   "outputs": [],
   "source": [
    "x_train = x_mapper.fit_transform(df_train).astype('float32')\n",
    "x_val = x_mapper.transform(df_val).astype('float32')\n",
    "x_test = x_mapper.transform(df_test).astype('float32')"
   ]
  },
  {
   "cell_type": "code",
   "execution_count": 84,
   "metadata": {},
   "outputs": [],
   "source": [
    "_ = np.nan_to_num(x_train,copy=False)\n",
    "_ = np.nan_to_num(x_val,copy=False)\n",
    "_ = np.nan_to_num(x_test,copy=False)"
   ]
  },
  {
   "cell_type": "code",
   "execution_count": 85,
   "metadata": {},
   "outputs": [],
   "source": [
    "def replace_zero(duration):\n",
    "    return np.where(duration <= 0.0, duration + np.sort(np.unique(duration))[1], duration)"
   ]
  },
  {
   "cell_type": "code",
   "execution_count": 86,
   "metadata": {},
   "outputs": [],
   "source": [
    "get_target = lambda df: (df['duration'].values, df['event'].values)\n",
    "y_train = get_target(df_train)\n",
    "y_val = get_target(df_val)\n",
    "val = x_val, y_val\n",
    "\n",
    "durations_test, events_test = get_target(df_test)"
   ]
  },
  {
   "cell_type": "markdown",
   "metadata": {},
   "source": [
    "labtrans = CoxTime.label_transform()\n",
    "\n",
    "y_train_transformed = labtrans.fit_transform(*get_target(df_train))\n",
    "y_train_transformed = (np.exp(y_train_transformed[0]), y_train_transformed[1])\n",
    "y_val_transformed = labtrans.transform(*get_target(df_val))\n",
    "y_val_transformed = (np.exp(y_val_transformed[0]), y_val_transformed[1])\n",
    "val_transformed = x_val, y_val_transformed\n",
    "durations_test_transformed, events_test = labtrans.transform(*get_target(df_test))\n",
    "durations_test_transformed = np.exp(durations_test_transformed)"
   ]
  },
  {
   "cell_type": "code",
   "execution_count": 87,
   "metadata": {},
   "outputs": [],
   "source": [
    "train_log_replace = np.log(replace_zero(y_train[0])).reshape(-1, 1)\n",
    "val_log_replace = np.log(replace_zero(y_val[0])).reshape(-1, 1)\n",
    "\n",
    "scaler_train = StandardScaler().fit(train_log_replace)\n",
    "\n",
    "y_train_transformed = (np.exp(scaler_train.transform(train_log_replace).reshape(-1)), y_train[1])\n",
    "y_val_transformed = (np.exp(scaler_train.transform(val_log_replace).reshape(-1)), y_val[1])\n",
    "\n",
    "val_transformed = x_val, y_val_transformed\n",
    "\n",
    "test_log_replace = np.log(replace_zero(durations_test)).reshape(-1, 1)\n",
    "durations_test_transformed = np.exp(scaler_train.transform(test_log_replace).reshape(-1))"
   ]
  },
  {
   "cell_type": "code",
   "execution_count": 101,
   "metadata": {},
   "outputs": [],
   "source": [
    "in_features = x_train.shape[1]\n",
    "num_layers = 8\n",
    "num_node = 512\n",
    "num_nodes = [num_node] * num_layers\n",
    "out_features = 1\n",
    "batch_norm = True\n",
    "dropout = 0.0\n",
    "output_bias = False\n",
    "batch_size = 4096\n",
    "# lr = 0.001\n",
    "lr = 1e-3\n",
    "wd = 0.0\n",
    "alpha = 0.0\n",
    "beta = 1e-7\n",
    "gamma = 1e-7\n",
    "delta = 0.0\n",
    "\n",
    "net = tt.practical.MLPVanilla(in_features, num_nodes, out_features, batch_norm,\n",
    "                              dropout, output_bias=output_bias)"
   ]
  },
  {
   "cell_type": "markdown",
   "metadata": {},
   "source": [
    "lr = 0.00005\n",
    "wd = 0.0\n",
    "alpha = 0.000001\n",
    "beta = 0.000001"
   ]
  },
  {
   "cell_type": "code",
   "execution_count": 102,
   "metadata": {},
   "outputs": [],
   "source": [
    "model = CoxPH(net, optimizer=tt.optim.AdamWR(lr = lr, decoupled_weight_decay = wd))\n",
    "model.loss = DSAFTRankLoss(alpha = alpha, beta = beta, gamma = gamma, delta = delta)"
   ]
  },
  {
   "cell_type": "code",
   "execution_count": 103,
   "metadata": {},
   "outputs": [],
   "source": [
    "epochs = 100\n",
    "callbacks = [tt.callbacks.EarlyStopping(checkpoint_model = False, load_best = False)]\n",
    "verbose = True"
   ]
  },
  {
   "cell_type": "code",
   "execution_count": 104,
   "metadata": {},
   "outputs": [
    {
     "name": "stdout",
     "output_type": "stream",
     "text": [
      "0:\t[16s / 16s],\t\ttrain_loss: 0.2031,\tval_loss: 0.1966\n",
      "1:\t[16s / 33s],\t\ttrain_loss: 0.1996,\tval_loss: 0.1988\n",
      "2:\t[16s / 50s],\t\ttrain_loss: 0.1962,\tval_loss: 0.1959\n",
      "3:\t[16s / 1m:6s],\t\ttrain_loss: 0.1983,\tval_loss: 0.1992\n",
      "4:\t[16s / 1m:23s],\t\ttrain_loss: 0.1968,\tval_loss: 0.1969\n",
      "5:\t[17s / 1m:40s],\t\ttrain_loss: 0.1957,\tval_loss: 0.1957\n",
      "6:\t[16s / 1m:57s],\t\ttrain_loss: 0.1947,\tval_loss: 0.1951\n",
      "7:\t[16s / 2m:14s],\t\ttrain_loss: 0.1968,\tval_loss: 0.1972\n",
      "8:\t[16s / 2m:31s],\t\ttrain_loss: 0.1963,\tval_loss: 0.1973\n",
      "9:\t[16s / 2m:48s],\t\ttrain_loss: 0.1957,\tval_loss: 0.1965\n",
      "10:\t[17s / 3m:5s],\t\ttrain_loss: 0.1953,\tval_loss: 0.1958\n",
      "11:\t[16s / 3m:22s],\t\ttrain_loss: 0.1949,\tval_loss: 0.1954\n",
      "12:\t[16s / 3m:39s],\t\ttrain_loss: 0.1944,\tval_loss: 0.1949\n",
      "13:\t[16s / 3m:55s],\t\ttrain_loss: 0.1939,\tval_loss: 0.1945\n",
      "14:\t[16s / 4m:12s],\t\ttrain_loss: 0.1937,\tval_loss: 0.1944\n",
      "15:\t[16s / 4m:29s],\t\ttrain_loss: 0.1956,\tval_loss: 0.1966\n",
      "16:\t[16s / 4m:46s],\t\ttrain_loss: 0.1954,\tval_loss: 0.1968\n",
      "17:\t[17s / 5m:3s],\t\ttrain_loss: 0.1953,\tval_loss: 0.1992\n",
      "18:\t[17s / 5m:20s],\t\ttrain_loss: 0.1950,\tval_loss: 0.1962\n",
      "19:\t[16s / 5m:37s],\t\ttrain_loss: 0.1949,\tval_loss: 0.1960\n",
      "20:\t[16s / 5m:54s],\t\ttrain_loss: 0.1947,\tval_loss: 0.1958\n",
      "21:\t[17s / 6m:11s],\t\ttrain_loss: 0.1945,\tval_loss: 0.1950\n",
      "22:\t[17s / 6m:28s],\t\ttrain_loss: 0.1943,\tval_loss: 0.1962\n",
      "23:\t[16s / 6m:45s],\t\ttrain_loss: 0.1941,\tval_loss: 0.1948\n",
      "24:\t[16s / 7m:1s],\t\ttrain_loss: 0.1939,\tval_loss: 0.1945\n",
      "Wall time: 7min 1s\n"
     ]
    }
   ],
   "source": [
    "%%time\n",
    "log = model.fit(x_train, y_train_transformed, batch_size, epochs, callbacks, verbose,\n",
    "                val_data = val_transformed, val_batch_size = batch_size)"
   ]
  },
  {
   "cell_type": "markdown",
   "metadata": {},
   "source": [
    "## CoxTime"
   ]
  },
  {
   "cell_type": "code",
   "execution_count": 16,
   "metadata": {},
   "outputs": [],
   "source": [
    "labtrans = CoxTime.label_transform()\n",
    "get_target = lambda df: (df['duration'].values, df['event'].values)\n",
    "y_train = labtrans.fit_transform(*get_target(df_train))\n",
    "y_val = labtrans.transform(*get_target(df_val))\n",
    "durations_test, events_test = get_target(df_test)\n",
    "val = tt.tuplefy(x_val, y_val)"
   ]
  },
  {
   "cell_type": "code",
   "execution_count": 17,
   "metadata": {},
   "outputs": [],
   "source": [
    "in_features = x_train.shape[1]\n",
    "num_layers = 8\n",
    "num_node = 256\n",
    "num_nodes = [num_node] * num_layers\n",
    "out_features = 1\n",
    "batch_norm = True\n",
    "dropout = 0.0\n",
    "output_bias = False\n",
    "batch_size = 4096"
   ]
  },
  {
   "cell_type": "code",
   "execution_count": 18,
   "metadata": {},
   "outputs": [],
   "source": [
    "net2 = MLPVanillaCoxTime(in_features, num_nodes, batch_norm, dropout)"
   ]
  },
  {
   "cell_type": "code",
   "execution_count": 19,
   "metadata": {},
   "outputs": [],
   "source": [
    "model2 = CoxTime(net2, labtrans = labtrans)\n",
    "model2.optimizer.set_lr(0.0001)"
   ]
  },
  {
   "cell_type": "code",
   "execution_count": 20,
   "metadata": {},
   "outputs": [],
   "source": [
    "epochs = 50\n",
    "callbacks2 = [tt.callbacks.EarlyStopping(checkpoint_model = False, load_best = False)]\n",
    "verbose = True"
   ]
  },
  {
   "cell_type": "code",
   "execution_count": 21,
   "metadata": {},
   "outputs": [
    {
     "name": "stdout",
     "output_type": "stream",
     "text": [
      "0:\t[50s / 50s],\t\ttrain_loss: 0.3592,\tval_loss: 0.3418\n",
      "1:\t[31s / 1m:21s],\t\ttrain_loss: 0.3337,\tval_loss: 0.3323\n",
      "2:\t[31s / 1m:53s],\t\ttrain_loss: 0.3281,\tval_loss: 0.3261\n",
      "3:\t[34s / 2m:27s],\t\ttrain_loss: 0.3241,\tval_loss: 0.3229\n",
      "4:\t[32s / 2m:59s],\t\ttrain_loss: 0.3212,\tval_loss: 0.3199\n",
      "5:\t[31s / 3m:30s],\t\ttrain_loss: 0.3184,\tval_loss: 0.3184\n",
      "6:\t[32s / 4m:3s],\t\ttrain_loss: 0.3163,\tval_loss: 0.3164\n",
      "7:\t[32s / 4m:35s],\t\ttrain_loss: 0.3146,\tval_loss: 0.3135\n",
      "8:\t[31s / 5m:7s],\t\ttrain_loss: 0.3131,\tval_loss: 0.3127\n",
      "9:\t[32s / 5m:39s],\t\ttrain_loss: 0.3121,\tval_loss: 0.3147\n",
      "10:\t[32s / 6m:12s],\t\ttrain_loss: 0.3105,\tval_loss: 0.3106\n",
      "11:\t[34s / 6m:47s],\t\ttrain_loss: 0.3094,\tval_loss: 0.3104\n",
      "12:\t[30s / 7m:17s],\t\ttrain_loss: 0.3091,\tval_loss: 0.3116\n",
      "13:\t[30s / 7m:47s],\t\ttrain_loss: 0.3076,\tval_loss: 0.3106\n",
      "14:\t[33s / 8m:20s],\t\ttrain_loss: 0.3073,\tval_loss: 0.3080\n",
      "15:\t[33s / 8m:54s],\t\ttrain_loss: 0.3062,\tval_loss: 0.3071\n",
      "16:\t[31s / 9m:25s],\t\ttrain_loss: 0.3055,\tval_loss: 0.3053\n",
      "17:\t[31s / 9m:57s],\t\ttrain_loss: 0.3049,\tval_loss: 0.3069\n",
      "18:\t[32s / 10m:29s],\t\ttrain_loss: 0.3042,\tval_loss: 0.3089\n",
      "19:\t[34s / 11m:3s],\t\ttrain_loss: 0.3030,\tval_loss: 0.3054\n",
      "20:\t[32s / 11m:36s],\t\ttrain_loss: 0.3031,\tval_loss: 0.3035\n",
      "21:\t[33s / 12m:10s],\t\ttrain_loss: 0.3026,\tval_loss: 0.3054\n",
      "22:\t[34s / 12m:44s],\t\ttrain_loss: 0.3023,\tval_loss: 0.3063\n",
      "23:\t[32s / 13m:16s],\t\ttrain_loss: 0.3023,\tval_loss: 0.3092\n",
      "24:\t[32s / 13m:49s],\t\ttrain_loss: 0.3009,\tval_loss: 0.3046\n",
      "25:\t[34s / 14m:23s],\t\ttrain_loss: 0.3002,\tval_loss: 0.3024\n",
      "26:\t[32s / 14m:56s],\t\ttrain_loss: 0.3003,\tval_loss: 0.3114\n",
      "27:\t[29s / 15m:26s],\t\ttrain_loss: 0.2998,\tval_loss: 0.2996\n",
      "28:\t[26s / 15m:53s],\t\ttrain_loss: 0.2993,\tval_loss: 0.3022\n",
      "29:\t[26s / 16m:20s],\t\ttrain_loss: 0.2990,\tval_loss: 0.2995\n",
      "30:\t[28s / 16m:48s],\t\ttrain_loss: 0.2992,\tval_loss: 0.3047\n",
      "31:\t[27s / 17m:16s],\t\ttrain_loss: 0.2989,\tval_loss: 0.3059\n",
      "32:\t[27s / 17m:44s],\t\ttrain_loss: 0.2987,\tval_loss: 0.2994\n",
      "33:\t[29s / 18m:13s],\t\ttrain_loss: 0.2985,\tval_loss: 0.3015\n",
      "34:\t[29s / 18m:42s],\t\ttrain_loss: 0.2979,\tval_loss: 0.3033\n",
      "35:\t[29s / 19m:11s],\t\ttrain_loss: 0.2965,\tval_loss: 0.2993\n",
      "36:\t[29s / 19m:41s],\t\ttrain_loss: 0.2968,\tval_loss: 0.3050\n",
      "37:\t[30s / 20m:11s],\t\ttrain_loss: 0.2963,\tval_loss: 0.3056\n",
      "38:\t[34s / 20m:45s],\t\ttrain_loss: 0.2968,\tval_loss: 0.3013\n",
      "39:\t[31s / 21m:17s],\t\ttrain_loss: 0.2957,\tval_loss: 0.2976\n",
      "40:\t[27s / 21m:44s],\t\ttrain_loss: 0.2960,\tval_loss: 0.2995\n",
      "41:\t[27s / 22m:12s],\t\ttrain_loss: 0.2954,\tval_loss: 0.3016\n",
      "42:\t[28s / 22m:41s],\t\ttrain_loss: 0.2956,\tval_loss: 0.2973\n",
      "43:\t[28s / 23m:9s],\t\ttrain_loss: 0.2949,\tval_loss: 0.3005\n",
      "44:\t[27s / 23m:37s],\t\ttrain_loss: 0.2951,\tval_loss: 0.2967\n",
      "45:\t[27s / 24m:5s],\t\ttrain_loss: 0.2948,\tval_loss: 0.2998\n",
      "46:\t[28s / 24m:33s],\t\ttrain_loss: 0.2940,\tval_loss: 0.2954\n",
      "47:\t[28s / 25m:1s],\t\ttrain_loss: 0.2940,\tval_loss: 0.2963\n",
      "48:\t[31s / 25m:32s],\t\ttrain_loss: 0.2942,\tval_loss: 0.3016\n",
      "49:\t[29s / 26m:2s],\t\ttrain_loss: 0.2944,\tval_loss: 0.2995\n",
      "Wall time: 26min 3s\n"
     ]
    }
   ],
   "source": [
    "%%time\n",
    "log2 = model2.fit(x_train, y_train, batch_size, epochs, callbacks2, verbose,\n",
    "                  val_data = val.repeat(10).cat())"
   ]
  },
  {
   "cell_type": "code",
   "execution_count": 22,
   "metadata": {},
   "outputs": [
    {
     "name": "stdout",
     "output_type": "stream",
     "text": [
      "Wall time: 15min 12s\n"
     ]
    }
   ],
   "source": [
    "%%time\n",
    "_ = model2.compute_baseline_hazards()\n",
    "surv_cox = model2.predict_surv_df(x_test)\n",
    "ev_cox = EvalSurv(surv_cox, durations_test, events_test, censor_surv='km')"
   ]
  },
  {
   "cell_type": "code",
   "execution_count": 23,
   "metadata": {},
   "outputs": [
    {
     "name": "stdout",
     "output_type": "stream",
     "text": [
      "Wall time: 1.48 s\n"
     ]
    }
   ],
   "source": [
    "%%time\n",
    "bs_cox = ev_cox.brier_score(time_grid)"
   ]
  },
  {
   "cell_type": "code",
   "execution_count": 174,
   "metadata": {},
   "outputs": [],
   "source": [
    "def get_scores(model, y_test, delta_test, time_grid, surv_residual = False, cens_residual = False):\n",
    "    n = y_test.shape[0]\n",
    "    x_train, target = model.training_data\n",
    "    y_train, delta_train = target\n",
    "\n",
    "    # compute residual from training data\n",
    "    exp_residual_train = np.nan_to_num(np.exp(np.log(y_train) - model.predict(x_train).reshape(-1)))\n",
    "    exp_residual_test = np.nan_to_num(np.exp(np.log(y_test) - model.predict(x_test).reshape(-1)))\n",
    "\n",
    "    # compute exp(-theta) from test data to evaluate accelerating component\n",
    "    exp_predict_neg_test = np.nan_to_num(np.exp(-model.predict(x_test)).reshape(-1))\n",
    "\n",
    "    naf_base = NelsonAalenFitter().fit(y_train, event_observed = delta_train)\n",
    "    kmf_cens = KaplanMeierFitter().fit(y_train, event_observed = 1 - delta_train)\n",
    "    \n",
    "    if cens_residual == True:\n",
    "        cens_test = kmf_cens.survival_function_at_times(exp_residual_test)\n",
    "    elif cens_residual == False:\n",
    "        cens_test = kmf_cens.survival_function_at_times(y_test)\n",
    "\n",
    "    # if surv_residual == True:\n",
    "    #     naf_base = NelsonAalenFitter().fit(exp_residual, event_observed = delta_train)\n",
    "    # elif surv_residual == False:\n",
    "    #     naf_base = NelsonAalenFitter().fit(y_train, event_observed = delta_train)\n",
    "        \n",
    "    # if cens_residual == True:\n",
    "    #     kmf_cens = KaplanMeierFitter().fit(exp_residual, event_observed = 1 - delta_train)\n",
    "    #     cens_test = kmf_cens.survival_function_at_times(np.nan_to_num(np.exp(np.log(y_test) - model.predict(x_test).reshape(-1))))\n",
    "    # elif cens_residual == False:\n",
    "    #     kmf_cens = KaplanMeierFitter().fit(y_train, event_observed = 1 - delta_train)\n",
    "    #     cens_test = kmf_cens.survival_function_at_times(y_test)\n",
    "\n",
    "    bss = []\n",
    "    nblls = []\n",
    "    for t in time_grid:\n",
    "        bs, nbll = get_score(n, t, y_test, delta_test, naf_base, kmf_cens, cens_test, exp_predict_neg_test, surv_residual, cens_residual, model)\n",
    "        bss.append(bs)\n",
    "        nblls.append(nbll)\n",
    "\n",
    "    return (np.array(bss), np.array(nblls))"
   ]
  },
  {
   "cell_type": "code",
   "execution_count": 175,
   "metadata": {},
   "outputs": [],
   "source": [
    "def get_score(n, t, y_test, delta_test, naf_base, kmf_cens, cens_test, exp_predict_neg_test, surv_residual, cens_residual, model):\n",
    "    exp_residual_t = np.nan_to_num(np.exp(np.repeat(np.log(t),n) - model.predict(x_test).reshape(-1)))\n",
    "    \n",
    "    if surv_residual == True:\n",
    "        H_base = naf_base.cumulative_hazard_at_times(exp_residual_t).values\n",
    "    elif surv_residual == False:\n",
    "        H_base = naf_base.cumulative_hazard_at_times(t).values        \n",
    "    \n",
    "    if cens_residual == True:\n",
    "        cens_t = kmf_cens.survival_function_at_times(exp_residual_t).values\n",
    "    elif cens_residual == False:\n",
    "        cens_t = np.repeat(kmf_cens.survival_function_at_times(t).values, n)\n",
    "\n",
    "    surv_cond = np.exp(-(H_base * exp_predict_neg_test)) - 1e-32\n",
    "    \n",
    "    indicator_first = (y_test <= t) * delta_test\n",
    "    indicator_second = (y_test > t) * 1\n",
    "\n",
    "    first_bs = np.power(surv_cond, 2) * indicator_first / cens_test\n",
    "    second_bs = np.power(1 - surv_cond, 2) * indicator_second / cens_t\n",
    "    bs = (first_bs + second_bs).sum() / n\n",
    "    \n",
    "    first_nbll = np.nan_to_num(np.log(1 - surv_cond)) * indicator_first / cens_test\n",
    "    second_nbll = np.nan_to_num(np.log(surv_cond)) * indicator_second / cens_t\n",
    "    nbll = np.nan_to_num((first_nbll + second_nbll).sum()) / n\n",
    "    \n",
    "    return (bs, nbll)"
   ]
  },
  {
   "cell_type": "code",
   "execution_count": 208,
   "metadata": {},
   "outputs": [],
   "source": [
    "time_grid = np.linspace(durations_test.min(), durations_test.max(), 100)\n",
    "time_grid_dsaft = np.exp(scaler_train.transform(np.log(time_grid.reshape(-1, 1)))).reshape(-1)\n",
    "#time_grid_dsaft = np.linspace(durations_test_transformed.min(), durations_test_transformed.max(), 100)"
   ]
  },
  {
   "cell_type": "code",
   "execution_count": 177,
   "metadata": {},
   "outputs": [
    {
     "name": "stdout",
     "output_type": "stream",
     "text": [
      "Wall time: 1min 39s\n"
     ]
    }
   ],
   "source": [
    "%%time\n",
    "bs_residual, nbll_residual = get_scores(model, durations_test_transformed, events_test, time_grid_dsaft, surv_residual = True, cens_residual = True)"
   ]
  },
  {
   "cell_type": "code",
   "execution_count": 178,
   "metadata": {},
   "outputs": [],
   "source": [
    "nbll_cox = ev_cox.nbll(time_grid)"
   ]
  },
  {
   "cell_type": "code",
   "execution_count": 179,
   "metadata": {},
   "outputs": [
    {
     "data": {
      "image/png": "[encoded data removed]",
      "text/plain": [
       "<Figure size 432x288 with 1 Axes>"
      ]
     },
     "metadata": {
      "needs_background": "light"
     },
     "output_type": "display_data"
    }
   ],
   "source": [
    "_ = plt.plot(bs_residual)\n",
    "_ = plt.plot(bs_cox.values)"
   ]
  },
  {
   "cell_type": "code",
   "execution_count": 180,
   "metadata": {},
   "outputs": [],
   "source": [
    "ds_cox = np.repeat(time_grid[1] - time_grid[0], 100)\n",
    "ds_dsaft = np.array(time_grid_dsaft - np.array([0.0] + time_grid_dsaft[:-1].tolist()))"
   ]
  },
  {
   "cell_type": "code",
   "execution_count": 29,
   "metadata": {},
   "outputs": [],
   "source": [
    "c_coxtime = ev_cox.concordance_td()"
   ]
  },
  {
   "cell_type": "code",
   "execution_count": 181,
   "metadata": {},
   "outputs": [],
   "source": [
    "c_dsaft = concordance_index(durations_test_transformed, model.predict(x_test).reshape(-1),\n",
    "                            event_observed = events_test)"
   ]
  },
  {
   "cell_type": "code",
   "execution_count": 182,
   "metadata": {},
   "outputs": [
    {
     "name": "stdout",
     "output_type": "stream",
     "text": [
      "IBS (Cox-Time):             0.1086882435189325\n",
      "IBS (DSAFT - residual):     0.10817903737265046\n"
     ]
    }
   ],
   "source": [
    "print(\"IBS (Cox-Time):             {}\".format((bs_cox * ds_cox).sum() / (time_grid.max() - time_grid.min())))\n",
    "print(\"IBS (DSAFT - residual):     {}\".format((bs_residual * ds_dsaft).sum() / (time_grid_dsaft.max() - time_grid_dsaft.min())))\n",
    "#print(\"IBS (DSAFT - residual):     {}\".format((bs_residual * ds_dsaft).sum() / (time_grid.max() - time_grid.min())))"
   ]
  },
  {
   "cell_type": "code",
   "execution_count": 183,
   "metadata": {},
   "outputs": [
    {
     "name": "stdout",
     "output_type": "stream",
     "text": [
      "Ctd (Cox-Time):             0.859193740903564\n",
      "Ctd (DSAFT - residual):     0.8643834869652312\n"
     ]
    }
   ],
   "source": [
    "print(\"Ctd (Cox-Time):             {}\".format(c_coxtime))\n",
    "print(\"Ctd (DSAFT - residual):     {}\".format(c_dsaft))"
   ]
  },
  {
   "cell_type": "code",
   "execution_count": 184,
   "metadata": {},
   "outputs": [
    {
     "name": "stdout",
     "output_type": "stream",
     "text": [
      "IBS (Cox-Time):             0.3349991585472528\n",
      "IBS (DSAFT - residual):     -5.233628961391219e+300\n"
     ]
    }
   ],
   "source": [
    "print(\"IBS (Cox-Time):             {}\".format((nbll_cox * ds_cox).sum() / (time_grid.max() - time_grid.min())))\n",
    "print(\"IBS (DSAFT - residual):     {}\".format((nbll_residual * ds_dsaft).sum() / (time_grid_dsaft.max() - time_grid_dsaft.min())))\n",
    "#print(\"IBS (DSAFT - residual):     {}\".format((bs_residual * ds_dsaft).sum() / (time_grid.max() - time_grid.min())))"
   ]
  }
 ],
 "metadata": {
  "kernelspec": {
   "display_name": "Python 3",
   "language": "python",
   "name": "python3"
  },
  "language_info": {
   "codemirror_mode": {
    "name": "ipython",
    "version": 3
   },
   "file_extension": ".py",
   "mimetype": "text/x-python",
   "name": "python",
   "nbconvert_exporter": "python",
   "pygments_lexer": "ipython3",
   "version": "3.7.6"
  }
 },
 "nbformat": 4,
 "nbformat_minor": 4
}
