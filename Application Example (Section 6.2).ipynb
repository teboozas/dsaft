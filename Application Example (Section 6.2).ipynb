{
 "cells": [
  {
   "cell_type": "markdown",
   "metadata": {},
   "source": [
    "## Prerequisites"
   ]
  },
  {
   "cell_type": "code",
   "execution_count": 1,
   "metadata": {},
   "outputs": [],
   "source": [
    "import warnings\n",
    "import numpy as np\n",
    "import pandas as pd\n",
    "import matplotlib.pyplot as plt\n",
    "from sklearn.preprocessing import StandardScaler\n",
    "from sklearn_pandas import DataFrameMapper\n",
    "\n",
    "import torch\n",
    "import torchtuples as tt\n",
    "from torch import Tensor\n",
    "\n",
    "from pycox.models import CoxPH\n",
    "from pycox.evaluation import EvalSurv\n",
    "from pycox.datasets import gbsg\n",
    "\n",
    "from lifelines import KaplanMeierFitter, NelsonAalenFitter\n",
    "from lifelines.utils import concordance_index\n",
    "warnings.simplefilter(action='ignore', category = FutureWarning)\n",
    "warnings.simplefilter(action='ignore', category = RuntimeWarning)"
   ]
  },
  {
   "cell_type": "code",
   "execution_count": 2,
   "metadata": {},
   "outputs": [],
   "source": [
    "def get_surv(model, x_test, y_test, timegrid = None):\n",
    "    '''\n",
    "    model: PyCox model class or compatibles\n",
    "    x_test: covariate dataset to compute survival estimates\n",
    "    timegrid: option to set upperbound of time grid to \"Y\" of training dataset\n",
    "    '''\n",
    "    warnings.simplefilter(action='ignore', category = FutureWarning)\n",
    "    warnings.simplefilter(action='ignore', category = RuntimeWarning)\n",
    "    \n",
    "    x_train, target = model.training_data\n",
    "    y_train, delta_train = target\n",
    "    \n",
    "    # compute residual from training data\n",
    "    exp_residual_train = np.nan_to_num(np.exp(np.log(y_train) - model.predict(x_train).reshape(-1)))\n",
    "    exp_residual_test = np.nan_to_num(np.exp(np.log(y_test) - model.predict(x_test).reshape(-1)))\n",
    "\n",
    "    # compute exp(-theta) from test data to evaluate accelerating component\n",
    "    exp_predict_neg_test = np.nan_to_num(np.exp(-model.predict(x_test)).reshape(-1))\n",
    "    \n",
    "    # estimate cumulative baseline hazard function\n",
    "    # based on training dataset\n",
    "    H_base = NelsonAalenFitter().fit(y_train, event_observed = delta_train).cumulative_hazard_\n",
    "    time_grid = H_base.index\n",
    "    surv_cond = np.exp(-(H_base.values.reshape(-1, 1) * exp_predict_neg_test)) - 1e-16    \n",
    "\n",
    "    surv = pd.DataFrame(surv_cond,\n",
    "                        index = time_grid,\n",
    "                        columns = [i for i in range(exp_predict_neg_test.shape[0])])\n",
    "    \n",
    "    surv.index.names = [\"duration\"]\n",
    "    \n",
    "    return surv"
   ]
  },
  {
   "cell_type": "markdown",
   "metadata": {},
   "source": [
    "## Data Preprocessing\n",
    "\n",
    "GBSG dataset is preprocessed following settings from [Kvamme et al., 2019](https://jmlr.org/papers/volume20/18-424/18-424.pdf), restoring original feature name information.\n",
    "\n",
    "For stable training procedure of DSAFT, observed time variable is standardized with log-transformation"
   ]
  },
  {
   "cell_type": "code",
   "execution_count": 3,
   "metadata": {},
   "outputs": [],
   "source": [
    "np.random.seed(1234)\n",
    "torch.manual_seed(1234)\n",
    "\n",
    "df_train = gbsg.read_df()\n",
    "df_train.columns = [\"horTh\", \"tgrade\", \"menostat\", \"age\", \"pnodes\", \"progrec\", \"est_rec\", \"duration\", \"event\"]\n",
    "\n",
    "df_test = df_train.sample(frac=0.2)\n",
    "df_train = df_train.drop(df_test.index)\n",
    "df_val = df_train.sample(frac=0.2)\n",
    "df_train = df_train.drop(df_val.index)\n",
    "\n",
    "cols_standardize = [\"age\", \"pnodes\", \"progrec\", \"est_rec\"]\n",
    "cols_leave = [\"horTh\", \"tgrade\", \"menostat\"]\n",
    "\n",
    "standardize = [([col], StandardScaler()) for col in cols_standardize]\n",
    "leave = [(col, None) for col in cols_leave]\n",
    "\n",
    "x_mapper = DataFrameMapper(standardize + leave)\n",
    "\n",
    "x_train = x_mapper.fit_transform(df_train).astype('float32')\n",
    "x_val = x_mapper.transform(df_val).astype('float32')\n",
    "x_test = x_mapper.transform(df_test).astype('float32')\n",
    "\n",
    "get_target = lambda df: (df['duration'].values, df['event'].values)\n",
    "y_train = get_target(df_train)\n",
    "y_val = get_target(df_val)\n",
    "val = x_val, y_val\n",
    "\n",
    "durations_test, events_test = get_target(df_test)"
   ]
  },
  {
   "cell_type": "markdown",
   "metadata": {},
   "source": [
    "### Standardization of $y$ for DSAFT"
   ]
  },
  {
   "cell_type": "code",
   "execution_count": 4,
   "metadata": {},
   "outputs": [],
   "source": [
    "def replace_zero(duration):\n",
    "    return np.where(duration <= 0.0, duration + np.sort(np.unique(duration))[1], duration)\n",
    "\n",
    "train_log_replace = np.log(replace_zero(y_train[0])).reshape(-1, 1)\n",
    "val_log_replace = np.log(replace_zero(y_val[0])).reshape(-1, 1)\n",
    "\n",
    "scaler_train = StandardScaler().fit(train_log_replace)\n",
    "\n",
    "y_train_transformed = (np.exp(scaler_train.transform(train_log_replace).reshape(-1)), y_train[1])\n",
    "y_val_transformed = (np.exp(scaler_train.transform(val_log_replace).reshape(-1)), y_val[1])\n",
    "\n",
    "val_transformed = x_val, y_val_transformed\n",
    "\n",
    "test_log_replace = np.log(replace_zero(durations_test)).reshape(-1, 1)\n",
    "durations_test_transformed = np.exp(scaler_train.transform(test_log_replace).reshape(-1))"
   ]
  },
  {
   "cell_type": "markdown",
   "metadata": {},
   "source": [
    "## Training - DSAFT"
   ]
  },
  {
   "cell_type": "code",
   "execution_count": 5,
   "metadata": {},
   "outputs": [],
   "source": [
    "## DSAFT - rank loss function\n",
    "def dsaft_rank_loss(theta, durations, events, alpha = 0.0, beta = 0.0):\n",
    "    '''\n",
    "    theta: prediction output from DNN layers\n",
    "    durations: log-scaled observed time (log(Y))\n",
    "    events: right-censoring-indicator (delta)\n",
    "    '''\n",
    "    n = durations.shape[0]\n",
    "    \n",
    "    # compute residual e_i\n",
    "    e = theta.sub(durations.view(-1,1).add(1e-32).log()).neg()\n",
    "    \n",
    "    loss = e.sub(e.view(-1)).mul(e.sub(e.view(-1))<=0).abs().mul(events.view(-1,1)).sum().mul(1 / n ** 2)\n",
    "    \n",
    "    penalty_1 = e.pow(2).sum().div(n).mul(alpha)\n",
    "    penalty_2 = theta.pow(2).sum().div(n).mul(beta)\n",
    "    \n",
    "    return loss + penalty_1 + penalty_2\n",
    "\n",
    "class DSAFTRankLoss(torch.nn.Module):\n",
    "    def __init__(self, alpha = 0.0, beta = 0.0):\n",
    "        super(DSAFTRankLoss, self).__init__()\n",
    "        self.alpha = alpha\n",
    "        self.beta = beta\n",
    "    def forward(self, log_h: Tensor, durations: Tensor, events: Tensor) -> Tensor:\n",
    "        return dsaft_rank_loss(log_h, durations, events,\n",
    "                               alpha = self.alpha, beta = self.beta)"
   ]
  },
  {
   "cell_type": "code",
   "execution_count": 6,
   "metadata": {},
   "outputs": [],
   "source": [
    "in_features = x_train.shape[1]\n",
    "num_layers = 4\n",
    "num_node = 64\n",
    "num_nodes = [num_node] * num_layers\n",
    "out_features = 1\n",
    "batch_norm = True\n",
    "dropout = 0.6\n",
    "output_bias = False\n",
    "batch_size = 128\n",
    "lr = 0.0005\n",
    "wd = 0.2\n",
    "alpha = 0.0\n",
    "beta = 0.0\n",
    "\n",
    "net = tt.practical.MLPVanilla(in_features, num_nodes, out_features, batch_norm,\n",
    "                              dropout, output_bias=output_bias)"
   ]
  },
  {
   "cell_type": "code",
   "execution_count": 7,
   "metadata": {},
   "outputs": [],
   "source": [
    "model = CoxPH(net, optimizer=tt.optim.AdamWR(lr = lr, decoupled_weight_decay = wd))\n",
    "model.loss = DSAFTRankLoss(alpha = alpha, beta = beta,)"
   ]
  },
  {
   "cell_type": "code",
   "execution_count": 8,
   "metadata": {},
   "outputs": [],
   "source": [
    "epochs = 512\n",
    "callbacks = [tt.callbacks.EarlyStopping(checkpoint_model = False, load_best = False)]\n",
    "verbose = True"
   ]
  },
  {
   "cell_type": "code",
   "execution_count": 9,
   "metadata": {},
   "outputs": [
    {
     "name": "stdout",
     "output_type": "stream",
     "text": [
      "0:\t[1s / 1s],\t\ttrain_loss: 0.5264,\tval_loss: 0.4631\n",
      "1:\t[0s / 1s],\t\ttrain_loss: 0.5053,\tval_loss: 0.4605\n",
      "2:\t[0s / 1s],\t\ttrain_loss: 0.4805,\tval_loss: 0.4592\n",
      "3:\t[0s / 2s],\t\ttrain_loss: 0.4767,\tval_loss: 0.4586\n",
      "4:\t[0s / 2s],\t\ttrain_loss: 0.4671,\tval_loss: 0.4575\n",
      "5:\t[0s / 2s],\t\ttrain_loss: 0.4535,\tval_loss: 0.4565\n",
      "6:\t[0s / 2s],\t\ttrain_loss: 0.4610,\tval_loss: 0.4559\n",
      "7:\t[0s / 2s],\t\ttrain_loss: 0.4755,\tval_loss: 0.4561\n",
      "8:\t[0s / 2s],\t\ttrain_loss: 0.4610,\tval_loss: 0.4560\n",
      "9:\t[0s / 3s],\t\ttrain_loss: 0.4553,\tval_loss: 0.4557\n",
      "10:\t[0s / 3s],\t\ttrain_loss: 0.4419,\tval_loss: 0.4555\n",
      "11:\t[0s / 3s],\t\ttrain_loss: 0.4554,\tval_loss: 0.4549\n",
      "12:\t[0s / 3s],\t\ttrain_loss: 0.4641,\tval_loss: 0.4539\n",
      "13:\t[0s / 3s],\t\ttrain_loss: 0.4422,\tval_loss: 0.4537\n",
      "14:\t[0s / 4s],\t\ttrain_loss: 0.4444,\tval_loss: 0.4535\n",
      "15:\t[0s / 4s],\t\ttrain_loss: 0.4535,\tval_loss: 0.4540\n",
      "16:\t[0s / 4s],\t\ttrain_loss: 0.4397,\tval_loss: 0.4538\n",
      "17:\t[0s / 4s],\t\ttrain_loss: 0.4487,\tval_loss: 0.4532\n",
      "18:\t[0s / 4s],\t\ttrain_loss: 0.4410,\tval_loss: 0.4528\n",
      "19:\t[0s / 5s],\t\ttrain_loss: 0.4382,\tval_loss: 0.4517\n",
      "20:\t[0s / 5s],\t\ttrain_loss: 0.4474,\tval_loss: 0.4505\n",
      "21:\t[0s / 5s],\t\ttrain_loss: 0.4490,\tval_loss: 0.4497\n",
      "22:\t[0s / 5s],\t\ttrain_loss: 0.4402,\tval_loss: 0.4490\n",
      "23:\t[0s / 5s],\t\ttrain_loss: 0.4523,\tval_loss: 0.4474\n",
      "24:\t[0s / 6s],\t\ttrain_loss: 0.4395,\tval_loss: 0.4463\n",
      "25:\t[0s / 6s],\t\ttrain_loss: 0.4437,\tval_loss: 0.4453\n",
      "26:\t[0s / 6s],\t\ttrain_loss: 0.4545,\tval_loss: 0.4445\n",
      "27:\t[0s / 6s],\t\ttrain_loss: 0.4298,\tval_loss: 0.4443\n",
      "28:\t[0s / 6s],\t\ttrain_loss: 0.4460,\tval_loss: 0.4439\n",
      "29:\t[0s / 7s],\t\ttrain_loss: 0.4423,\tval_loss: 0.4436\n",
      "30:\t[0s / 7s],\t\ttrain_loss: 0.4325,\tval_loss: 0.4440\n",
      "31:\t[0s / 7s],\t\ttrain_loss: 0.4274,\tval_loss: 0.4422\n",
      "32:\t[0s / 7s],\t\ttrain_loss: 0.4315,\tval_loss: 0.4386\n",
      "33:\t[0s / 7s],\t\ttrain_loss: 0.4324,\tval_loss: 0.4347\n",
      "34:\t[0s / 8s],\t\ttrain_loss: 0.4254,\tval_loss: 0.4310\n",
      "35:\t[0s / 8s],\t\ttrain_loss: 0.4235,\tval_loss: 0.4282\n",
      "36:\t[0s / 8s],\t\ttrain_loss: 0.4125,\tval_loss: 0.4249\n",
      "37:\t[0s / 8s],\t\ttrain_loss: 0.4210,\tval_loss: 0.4215\n",
      "38:\t[0s / 8s],\t\ttrain_loss: 0.4026,\tval_loss: 0.4179\n",
      "39:\t[0s / 8s],\t\ttrain_loss: 0.4132,\tval_loss: 0.4152\n",
      "40:\t[0s / 9s],\t\ttrain_loss: 0.4049,\tval_loss: 0.4122\n",
      "41:\t[0s / 9s],\t\ttrain_loss: 0.4104,\tval_loss: 0.4098\n",
      "42:\t[0s / 9s],\t\ttrain_loss: 0.4042,\tval_loss: 0.4085\n",
      "43:\t[0s / 9s],\t\ttrain_loss: 0.4065,\tval_loss: 0.4065\n",
      "44:\t[0s / 9s],\t\ttrain_loss: 0.4025,\tval_loss: 0.4041\n",
      "45:\t[0s / 10s],\t\ttrain_loss: 0.4046,\tval_loss: 0.4033\n",
      "46:\t[0s / 10s],\t\ttrain_loss: 0.4004,\tval_loss: 0.4031\n",
      "47:\t[0s / 10s],\t\ttrain_loss: 0.3965,\tval_loss: 0.4013\n",
      "48:\t[0s / 10s],\t\ttrain_loss: 0.3881,\tval_loss: 0.4007\n",
      "49:\t[0s / 10s],\t\ttrain_loss: 0.3791,\tval_loss: 0.3993\n",
      "50:\t[0s / 11s],\t\ttrain_loss: 0.3909,\tval_loss: 0.3993\n",
      "51:\t[0s / 11s],\t\ttrain_loss: 0.3943,\tval_loss: 0.3990\n",
      "52:\t[0s / 11s],\t\ttrain_loss: 0.4059,\tval_loss: 0.3988\n",
      "53:\t[0s / 11s],\t\ttrain_loss: 0.3964,\tval_loss: 0.3986\n",
      "54:\t[0s / 11s],\t\ttrain_loss: 0.4016,\tval_loss: 0.3987\n",
      "55:\t[0s / 12s],\t\ttrain_loss: 0.3817,\tval_loss: 0.3984\n",
      "56:\t[0s / 12s],\t\ttrain_loss: 0.3924,\tval_loss: 0.3976\n",
      "57:\t[0s / 12s],\t\ttrain_loss: 0.3975,\tval_loss: 0.3982\n",
      "58:\t[0s / 12s],\t\ttrain_loss: 0.3867,\tval_loss: 0.3985\n",
      "59:\t[0s / 12s],\t\ttrain_loss: 0.4020,\tval_loss: 0.3984\n",
      "60:\t[0s / 13s],\t\ttrain_loss: 0.3950,\tval_loss: 0.3981\n",
      "61:\t[0s / 13s],\t\ttrain_loss: 0.3818,\tval_loss: 0.3976\n",
      "62:\t[0s / 13s],\t\ttrain_loss: 0.4027,\tval_loss: 0.3974\n",
      "63:\t[0s / 13s],\t\ttrain_loss: 0.3876,\tval_loss: 0.3978\n",
      "64:\t[0s / 13s],\t\ttrain_loss: 0.3880,\tval_loss: 0.3969\n",
      "65:\t[0s / 13s],\t\ttrain_loss: 0.3718,\tval_loss: 0.3969\n",
      "66:\t[0s / 14s],\t\ttrain_loss: 0.3858,\tval_loss: 0.3964\n",
      "67:\t[0s / 14s],\t\ttrain_loss: 0.3981,\tval_loss: 0.3950\n",
      "68:\t[0s / 14s],\t\ttrain_loss: 0.3823,\tval_loss: 0.3946\n",
      "69:\t[0s / 14s],\t\ttrain_loss: 0.3779,\tval_loss: 0.3946\n",
      "70:\t[0s / 14s],\t\ttrain_loss: 0.3864,\tval_loss: 0.3945\n",
      "71:\t[0s / 15s],\t\ttrain_loss: 0.3822,\tval_loss: 0.3944\n",
      "72:\t[0s / 15s],\t\ttrain_loss: 0.3776,\tval_loss: 0.3941\n",
      "73:\t[0s / 15s],\t\ttrain_loss: 0.3832,\tval_loss: 0.3944\n",
      "74:\t[0s / 15s],\t\ttrain_loss: 0.3816,\tval_loss: 0.3947\n",
      "75:\t[0s / 15s],\t\ttrain_loss: 0.3691,\tval_loss: 0.3946\n",
      "76:\t[0s / 16s],\t\ttrain_loss: 0.3878,\tval_loss: 0.3933\n",
      "77:\t[0s / 16s],\t\ttrain_loss: 0.3875,\tval_loss: 0.3911\n",
      "78:\t[0s / 16s],\t\ttrain_loss: 0.3785,\tval_loss: 0.3918\n",
      "79:\t[0s / 16s],\t\ttrain_loss: 0.3746,\tval_loss: 0.3914\n",
      "80:\t[0s / 16s],\t\ttrain_loss: 0.3830,\tval_loss: 0.3901\n",
      "81:\t[0s / 16s],\t\ttrain_loss: 0.3793,\tval_loss: 0.3905\n",
      "82:\t[0s / 17s],\t\ttrain_loss: 0.3733,\tval_loss: 0.3915\n",
      "83:\t[0s / 17s],\t\ttrain_loss: 0.3924,\tval_loss: 0.3907\n",
      "84:\t[0s / 17s],\t\ttrain_loss: 0.3816,\tval_loss: 0.3911\n",
      "85:\t[0s / 17s],\t\ttrain_loss: 0.3876,\tval_loss: 0.3916\n",
      "86:\t[0s / 17s],\t\ttrain_loss: 0.3748,\tval_loss: 0.3915\n",
      "87:\t[0s / 18s],\t\ttrain_loss: 0.3782,\tval_loss: 0.3915\n",
      "88:\t[0s / 18s],\t\ttrain_loss: 0.3865,\tval_loss: 0.3912\n",
      "89:\t[0s / 18s],\t\ttrain_loss: 0.3851,\tval_loss: 0.3923\n",
      "90:\t[0s / 18s],\t\ttrain_loss: 0.3899,\tval_loss: 0.3909\n",
      "Wall time: 18.6 s\n"
     ]
    }
   ],
   "source": [
    "%%time\n",
    "log = model.fit(x_train, y_train_transformed, batch_size, epochs, callbacks, verbose,\n",
    "                val_data = val_transformed, val_batch_size = batch_size)"
   ]
  },
  {
   "cell_type": "markdown",
   "metadata": {},
   "source": [
    "## DeepSurv\n",
    "\n",
    "Confiruation set is from [Katzman et al., 2018](https://bmcmedresmethodol.biomedcentral.com/articles/10.1186/s12874-018-0482-1)"
   ]
  },
  {
   "cell_type": "code",
   "execution_count": 10,
   "metadata": {},
   "outputs": [],
   "source": [
    "in_features = x_train.shape[1]\n",
    "num_nodes = [20, 20, 20]\n",
    "out_features = 1\n",
    "batch_norm = False\n",
    "dropout = 0.0783935546875\n",
    "output_bias = False\n",
    "batch_size = 128\n",
    "\n",
    "net2 = tt.practical.MLPVanilla(in_features, num_nodes, out_features, batch_norm,\n",
    "                              activation = torch.nn.modules.activation.SELU,\n",
    "                              dropout = dropout, output_bias=output_bias)"
   ]
  },
  {
   "cell_type": "code",
   "execution_count": 11,
   "metadata": {},
   "outputs": [],
   "source": [
    "model2 = CoxPH(net2, tt.optim.AdamW(lr = 0.0004991066534650134, decoupled_weight_decay = 0.000746533203125))"
   ]
  },
  {
   "cell_type": "code",
   "execution_count": 12,
   "metadata": {},
   "outputs": [],
   "source": [
    "epochs = 512\n",
    "callbacks2 = [tt.callbacks.EarlyStopping(checkpoint_model = False, load_best = False)]\n",
    "verbose = True"
   ]
  },
  {
   "cell_type": "code",
   "execution_count": 13,
   "metadata": {},
   "outputs": [
    {
     "name": "stdout",
     "output_type": "stream",
     "text": [
      "0:\t[0s / 0s],\t\ttrain_loss: 4.5297,\tval_loss: 4.2394\n",
      "1:\t[0s / 0s],\t\ttrain_loss: 4.4142,\tval_loss: 4.1774\n",
      "2:\t[0s / 0s],\t\ttrain_loss: 4.3348,\tval_loss: 4.1471\n",
      "3:\t[0s / 0s],\t\ttrain_loss: 4.2971,\tval_loss: 4.1237\n",
      "4:\t[0s / 0s],\t\ttrain_loss: 4.2649,\tval_loss: 4.1120\n",
      "5:\t[0s / 0s],\t\ttrain_loss: 4.2405,\tval_loss: 4.1050\n",
      "6:\t[0s / 0s],\t\ttrain_loss: 4.2345,\tval_loss: 4.0993\n",
      "7:\t[0s / 0s],\t\ttrain_loss: 4.2124,\tval_loss: 4.0984\n",
      "8:\t[0s / 0s],\t\ttrain_loss: 4.1778,\tval_loss: 4.0956\n",
      "9:\t[0s / 1s],\t\ttrain_loss: 4.1610,\tval_loss: 4.0912\n",
      "10:\t[0s / 1s],\t\ttrain_loss: 4.1838,\tval_loss: 4.0893\n",
      "11:\t[0s / 1s],\t\ttrain_loss: 4.1794,\tval_loss: 4.0887\n",
      "12:\t[0s / 1s],\t\ttrain_loss: 4.1737,\tval_loss: 4.0861\n",
      "13:\t[0s / 1s],\t\ttrain_loss: 4.1396,\tval_loss: 4.0842\n",
      "14:\t[0s / 1s],\t\ttrain_loss: 4.1203,\tval_loss: 4.0835\n",
      "15:\t[0s / 1s],\t\ttrain_loss: 4.1351,\tval_loss: 4.0818\n",
      "16:\t[0s / 1s],\t\ttrain_loss: 4.1224,\tval_loss: 4.0806\n",
      "17:\t[0s / 1s],\t\ttrain_loss: 4.1239,\tval_loss: 4.0827\n",
      "18:\t[0s / 2s],\t\ttrain_loss: 4.1103,\tval_loss: 4.0852\n",
      "19:\t[0s / 2s],\t\ttrain_loss: 4.1465,\tval_loss: 4.0849\n",
      "20:\t[0s / 2s],\t\ttrain_loss: 4.1432,\tval_loss: 4.0858\n",
      "21:\t[0s / 2s],\t\ttrain_loss: 4.1156,\tval_loss: 4.0859\n",
      "22:\t[0s / 2s],\t\ttrain_loss: 4.0918,\tval_loss: 4.0874\n",
      "23:\t[0s / 2s],\t\ttrain_loss: 4.1373,\tval_loss: 4.0853\n",
      "24:\t[0s / 2s],\t\ttrain_loss: 4.1121,\tval_loss: 4.0842\n",
      "25:\t[0s / 2s],\t\ttrain_loss: 4.1085,\tval_loss: 4.0826\n",
      "26:\t[0s / 3s],\t\ttrain_loss: 4.1048,\tval_loss: 4.0816\n",
      "Wall time: 3.03 s\n"
     ]
    }
   ],
   "source": [
    "%%time\n",
    "log2 = model2.fit(x_train, y_train, batch_size, epochs, callbacks2, verbose,\n",
    "                  val_data=val, val_batch_size=batch_size)"
   ]
  },
  {
   "cell_type": "markdown",
   "metadata": {},
   "source": [
    "## Evaluation"
   ]
  },
  {
   "cell_type": "markdown",
   "metadata": {},
   "source": [
    "### DeepSurv"
   ]
  },
  {
   "cell_type": "code",
   "execution_count": 14,
   "metadata": {},
   "outputs": [],
   "source": [
    "_ = model2.compute_baseline_hazards()\n",
    "surv_cox = model2.predict_surv_df(x_test)\n",
    "ev_cox = EvalSurv(surv_cox, durations_test, events_test, censor_surv='km')\n",
    "\n",
    "time_grid = np.linspace(durations_test.min(), durations_test.max(), 100)\n",
    "\n",
    "c_coxtime = ev_cox.concordance_td()\n",
    "bs_cox = ev_cox.brier_score(time_grid)\n",
    "nbll_cox = ev_cox.nbll(time_grid)\n",
    "ds_cox = np.repeat(time_grid[1] - time_grid[0], 100)"
   ]
  },
  {
   "cell_type": "markdown",
   "metadata": {},
   "source": [
    "### DSAFT"
   ]
  },
  {
   "cell_type": "code",
   "execution_count": 15,
   "metadata": {},
   "outputs": [],
   "source": [
    "def get_scores(model, y_test, delta_test, time_grid, surv_residual = False, cens_residual = False):\n",
    "    n = y_test.shape[0]\n",
    "    x_train, target = model.training_data\n",
    "    y_train, delta_train = target\n",
    "\n",
    "    # compute residual from training data\n",
    "    exp_residual_train = np.nan_to_num(np.exp(np.log(y_train) - model.predict(x_train).reshape(-1)))\n",
    "    exp_residual_test = np.nan_to_num(np.exp(np.log(y_test) - model.predict(x_test).reshape(-1)))\n",
    "\n",
    "    # compute exp(-theta) from test data to evaluate accelerating component\n",
    "    exp_predict_neg_test = np.nan_to_num(np.exp(-model.predict(x_test)).reshape(-1))\n",
    "\n",
    "    naf_base = NelsonAalenFitter().fit(y_train, event_observed = delta_train)\n",
    "    kmf_cens = KaplanMeierFitter().fit(y_train, event_observed = 1 - delta_train)\n",
    "    \n",
    "    if cens_residual == True:\n",
    "        cens_test = kmf_cens.survival_function_at_times(exp_residual_test)\n",
    "    elif cens_residual == False:\n",
    "        cens_test = kmf_cens.survival_function_at_times(y_test)\n",
    "\n",
    "    bss = []\n",
    "    nblls = []\n",
    "    for t in time_grid:\n",
    "        bs, nbll = get_score(n, t, y_test, delta_test, naf_base, kmf_cens, cens_test, exp_predict_neg_test, surv_residual, cens_residual, model)\n",
    "        bss.append(bs)\n",
    "        nblls.append(-nbll)\n",
    "\n",
    "    return (np.array(bss), np.array(nblls))\n",
    "\n",
    "def get_score(n, t, y_test, delta_test, naf_base, kmf_cens, cens_test, exp_predict_neg_test, surv_residual, cens_residual, model):\n",
    "    exp_residual_t = np.nan_to_num(np.exp(np.repeat(np.log(t),n) - model.predict(x_test).reshape(-1)))\n",
    "    \n",
    "    if surv_residual == True:\n",
    "        H_base = naf_base.cumulative_hazard_at_times(exp_residual_t).values\n",
    "    elif surv_residual == False:\n",
    "        H_base = naf_base.cumulative_hazard_at_times(t).values        \n",
    "    \n",
    "    if cens_residual == True:\n",
    "        cens_t = kmf_cens.survival_function_at_times(exp_residual_t).values\n",
    "    elif cens_residual == False:\n",
    "        cens_t = np.repeat(kmf_cens.survival_function_at_times(t).values, n)\n",
    "\n",
    "    surv_cond = np.exp(-(H_base * exp_predict_neg_test)) - 1e-32\n",
    "    \n",
    "    indicator_first = (y_test <= t) * delta_test\n",
    "    indicator_second = (y_test > t) * 1\n",
    "\n",
    "    first_bs = np.power(surv_cond, 2) * indicator_first / cens_test\n",
    "    second_bs = np.power(1 - surv_cond, 2) * indicator_second / cens_t\n",
    "    bs = (first_bs + second_bs).sum() / n\n",
    "    \n",
    "    first_nbll = np.log(1 - surv_cond + 1e-32) * indicator_first / cens_test\n",
    "    second_nbll = np.log(surv_cond + 1e-32) * indicator_second / cens_t\n",
    "    nbll = (first_nbll + second_nbll).sum() / n\n",
    "    \n",
    "    return (bs, nbll)"
   ]
  },
  {
   "cell_type": "code",
   "execution_count": 16,
   "metadata": {},
   "outputs": [],
   "source": [
    "time_grid_dsaft = np.exp(scaler_train.transform(np.log(time_grid.reshape(-1, 1)))).reshape(-1)\n",
    "\n",
    "c_dsaft = concordance_index(durations_test_transformed, model.predict(x_test).reshape(-1), event_observed = events_test)\n",
    "bs_residual, nbll_residual = get_scores(model, durations_test_transformed, events_test, time_grid_dsaft, surv_residual = True, cens_residual = True)\n",
    "ds_dsaft = np.array(time_grid_dsaft - np.array([0.0] + time_grid_dsaft[:-1].tolist()))"
   ]
  },
  {
   "cell_type": "markdown",
   "metadata": {},
   "source": [
    "### Evaluated Metrics"
   ]
  },
  {
   "cell_type": "code",
   "execution_count": 17,
   "metadata": {},
   "outputs": [
    {
     "name": "stdout",
     "output_type": "stream",
     "text": [
      "Ctd (Cox-Time):             0.6805461810524043\n",
      "Ctd (DSAFT - residual):     0.6828889429181187\n"
     ]
    }
   ],
   "source": [
    "print(\"Ctd (Cox-Time):             {}\".format(c_coxtime))\n",
    "print(\"Ctd (DSAFT - residual):     {}\".format(c_dsaft))"
   ]
  },
  {
   "cell_type": "code",
   "execution_count": 18,
   "metadata": {},
   "outputs": [
    {
     "name": "stdout",
     "output_type": "stream",
     "text": [
      "IBS (Cox-Time):             0.1798166767132388\n",
      "IBS (DSAFT - residual):     0.17722296758003447\n"
     ]
    }
   ],
   "source": [
    "print(\"IBS (Cox-Time):             {}\".format((bs_cox * ds_cox).sum() / (time_grid.max() - time_grid.min())))\n",
    "print(\"IBS (DSAFT - residual):     {}\".format((bs_residual * ds_dsaft).sum() / (time_grid_dsaft.max() - time_grid_dsaft.min())))"
   ]
  },
  {
   "cell_type": "code",
   "execution_count": 19,
   "metadata": {},
   "outputs": [
    {
     "name": "stdout",
     "output_type": "stream",
     "text": [
      "IBS (Cox-Time):             0.5311076751237483\n",
      "IBS (DSAFT - residual):     0.509040733753953\n"
     ]
    }
   ],
   "source": [
    "print(\"IBS (Cox-Time):             {}\".format((nbll_cox * ds_cox).sum() / (time_grid.max() - time_grid.min())))\n",
    "print(\"IBS (DSAFT - residual):     {}\".format((nbll_residual * ds_dsaft).sum() / (time_grid_dsaft.max() - time_grid_dsaft.min())))"
   ]
  },
  {
   "cell_type": "markdown",
   "metadata": {},
   "source": [
    "## Treatment Recommender System"
   ]
  },
  {
   "cell_type": "code",
   "execution_count": 20,
   "metadata": {},
   "outputs": [],
   "source": [
    "def get_treat_data(target, col_idx, rec = None):\n",
    "    \n",
    "    trt = []\n",
    "    notrt = []\n",
    "    \n",
    "    for i, instance in enumerate(target):\n",
    "        tmp1 = instance.copy()\n",
    "        tmp2 = instance.copy()\n",
    "        if rec is not None:\n",
    "            tmp1[col_idx] = rec[i]\n",
    "            tmp2[col_idx] = np.abs(rec[i] - 1.0)\n",
    "        else:\n",
    "            tmp1[col_idx] = 1.0\n",
    "            tmp2[col_idx] = 0.0\n",
    "        trt.append(tmp1)\n",
    "        notrt.append(tmp2)\n",
    "    \n",
    "    return np.array(trt), np.array(notrt)"
   ]
  },
  {
   "cell_type": "code",
   "execution_count": 21,
   "metadata": {},
   "outputs": [],
   "source": [
    "trt, notrt = get_treat_data(x_test, 4)"
   ]
  },
  {
   "cell_type": "code",
   "execution_count": 22,
   "metadata": {},
   "outputs": [],
   "source": [
    "trt_rec_dsaft = ((model.predict(notrt) - model.predict(trt) < 0) * 1.0).reshape(-1)\n",
    "trt_rec_cox = ((model2.predict(notrt) - model2.predict(trt) > 0) * 1.0).reshape(-1)"
   ]
  },
  {
   "cell_type": "code",
   "execution_count": 23,
   "metadata": {},
   "outputs": [],
   "source": [
    "rec_test_dsaft, anti_test_dsaft = get_treat_data(x_test, 4, trt_rec_dsaft)\n",
    "rec_test_cox, anti_test_cox = get_treat_data(x_test, 4, trt_rec_cox)"
   ]
  },
  {
   "cell_type": "code",
   "execution_count": 24,
   "metadata": {},
   "outputs": [],
   "source": [
    "surv_rec_dsaft = get_surv(model, rec_test_dsaft, durations_test_transformed)\n",
    "surv_anti_dsaft = get_surv(model, anti_test_dsaft, durations_test_transformed)\n",
    "surv_rec_cox = model2.predict_surv_df(rec_test_cox)\n",
    "surv_anti_cox = model2.predict_surv_df(anti_test_cox)\n",
    "surv_rec_dsaft.index = surv_rec_cox.index\n",
    "surv_anti_dsaft.index = surv_anti_cox.index"
   ]
  },
  {
   "cell_type": "code",
   "execution_count": 25,
   "metadata": {},
   "outputs": [],
   "source": [
    "surv_trt = pd.concat([surv_rec_dsaft.mean(axis = 1),\n",
    "                      surv_rec_cox.mean(axis = 1),\n",
    "                      surv_anti_dsaft.mean(axis = 1),\n",
    "                      surv_anti_cox.mean(axis = 1)],\n",
    "                      axis = 1)\n",
    "surv_trt.columns = [\"Rec - DSAFT\", \"Rec - DeepSurv\", \"AntiRec - DSAFT\", \"AntiRec - DeepSurv\"]"
   ]
  },
  {
   "cell_type": "markdown",
   "metadata": {},
   "source": [
    "### Mean conditional survival function with treatment recommendation"
   ]
  },
  {
   "cell_type": "code",
   "execution_count": 26,
   "metadata": {},
   "outputs": [
    {
     "data": {
      "image/png": "[encoded data removed]",
      "text/plain": [
       "<Figure size 432x288 with 1 Axes>"
      ]
     },
     "metadata": {
      "needs_background": "light"
     },
     "output_type": "display_data"
    }
   ],
   "source": [
    "surv_trt.plot()\n",
    "plt.ylabel('Conditional survival probability')\n",
    "_ = plt.xlabel('Time-to-event (month)')"
   ]
  },
  {
   "cell_type": "markdown",
   "metadata": {},
   "source": [
    "### Median condtional survival times"
   ]
  },
  {
   "cell_type": "code",
   "execution_count": 27,
   "metadata": {},
   "outputs": [],
   "source": [
    "median_rec_dsaft = surv_rec_dsaft.mean(1)[surv_rec_dsaft.mean(1).values >= 0.5].index[-1]\n",
    "median_anti_dsaft = surv_anti_dsaft.mean(1)[surv_anti_dsaft.mean(1).values >= 0.5].index[-1]"
   ]
  },
  {
   "cell_type": "code",
   "execution_count": 28,
   "metadata": {},
   "outputs": [],
   "source": [
    "median_rec_cox = surv_rec_cox.mean(1)[surv_rec_cox.mean(1).values >= 0.5].index[-1]\n",
    "median_anti_cox = surv_anti_cox.mean(1)[surv_anti_cox.mean(1).values >= 0.5].index[-1]"
   ]
  },
  {
   "cell_type": "code",
   "execution_count": 29,
   "metadata": {},
   "outputs": [
    {
     "name": "stdout",
     "output_type": "stream",
     "text": [
      "Recommended - Cox:        62.16016387939453\n",
      "Anti-recommended - Cox:   46.5872688293457\n"
     ]
    }
   ],
   "source": [
    "print(\"Recommended - Cox:        {}\".format(median_rec_cox))\n",
    "print(\"Anti-recommended - Cox:   {}\".format(median_anti_cox))"
   ]
  },
  {
   "cell_type": "code",
   "execution_count": 30,
   "metadata": {},
   "outputs": [
    {
     "name": "stdout",
     "output_type": "stream",
     "text": [
      "Recommended - DSAFT:      64.36139678955078\n",
      "Anti-recommended - DSAFT: 44.55030822753906\n"
     ]
    }
   ],
   "source": [
    "print(\"Recommended - DSAFT:      {}\".format(median_rec_dsaft))\n",
    "print(\"Anti-recommended - DSAFT: {}\".format(median_anti_dsaft))"
   ]
  },
  {
   "cell_type": "markdown",
   "metadata": {},
   "source": [
    "## Explanation via SHAP"
   ]
  },
  {
   "cell_type": "code",
   "execution_count": 31,
   "metadata": {},
   "outputs": [],
   "source": [
    "import shap"
   ]
  },
  {
   "cell_type": "code",
   "execution_count": 32,
   "metadata": {},
   "outputs": [],
   "source": [
    "names = ['age', 'pnodes', 'progrec', 'est_rec', \"horTh\", \"tgrade\", \"menostat\"]\n",
    "\n",
    "e = shap.DeepExplainer(model = model.net.to('cpu'), data = Tensor(x_train))\n",
    "shap_values = e.shap_values(Tensor([x_test[0], rec_test_dsaft[0]]))\n",
    "shap_values_full = e.shap_values(Tensor(x_test))\n",
    "\n",
    "age_mean = x_mapper.get_params()['features'][0][1].mean_[0]\n",
    "age_std = np.sqrt(x_mapper.get_params()['features'][0][1].var_)[0]\n",
    "\n",
    "pnodes_mean = x_mapper.get_params()['features'][1][1].mean_[0]\n",
    "pnodes_std = np.sqrt(x_mapper.get_params()['features'][1][1].var_)[0]\n",
    "\n",
    "progrec_mean = x_mapper.get_params()['features'][2][1].mean_[0]\n",
    "progrec_std = np.sqrt(x_mapper.get_params()['features'][2][1].var_)[0]\n",
    "\n",
    "est_rec_mean = x_mapper.get_params()['features'][3][1].mean_[0]\n",
    "est_rec_std = np.sqrt(x_mapper.get_params()['features'][3][1].var_)[0]\n",
    "\n",
    "means = np.array([age_mean, pnodes_mean, progrec_mean, est_rec_mean, 0, 0, 0])\n",
    "stds = np.array([age_std, pnodes_std, progrec_std, est_rec_std, 1, 1, 1])"
   ]
  },
  {
   "cell_type": "markdown",
   "metadata": {},
   "source": [
    "### Summary plot for entire testset"
   ]
  },
  {
   "cell_type": "code",
   "execution_count": 33,
   "metadata": {},
   "outputs": [],
   "source": [
    "x_test_original = np.round(x_test * stds + means, 4)\n",
    "rec_test_original = np.round(rec_test_dsaft * stds + means, 4)"
   ]
  },
  {
   "cell_type": "code",
   "execution_count": 34,
   "metadata": {},
   "outputs": [
    {
     "data": {
      "image/png": "[encoded data removed]",
      "text/plain": [
       "<Figure size 576x309.6 with 2 Axes>"
      ]
     },
     "metadata": {
      "needs_background": "light"
     },
     "output_type": "display_data"
    }
   ],
   "source": [
    "shap.summary_plot(shap_values_full, x_test_original, feature_names = names)"
   ]
  },
  {
   "cell_type": "markdown",
   "metadata": {},
   "source": [
    "### Example of explanation on treatment recommendation"
   ]
  },
  {
   "cell_type": "markdown",
   "metadata": {},
   "source": [
    "SHAP score before get treatment recommendation"
   ]
  },
  {
   "cell_type": "code",
   "execution_count": 35,
   "metadata": {},
   "outputs": [
    {
     "data": {
      "image/png": "[encoded data removed]",
      "text/plain": [
       "<Figure size 648x216 with 1 Axes>"
      ]
     },
     "metadata": {
      "needs_background": "light"
     },
     "output_type": "display_data"
    }
   ],
   "source": [
    "shap.force_plot(e.expected_value, shap_values[0], x_test_original[0],\n",
    "                feature_names = names, matplotlib = True,\n",
    "                figsize = (9,3), out_names = 'predicted')"
   ]
  },
  {
   "cell_type": "markdown",
   "metadata": {},
   "source": [
    "SHAP score after get treatment recommendation"
   ]
  },
  {
   "cell_type": "code",
   "execution_count": 36,
   "metadata": {},
   "outputs": [
    {
     "data": {
      "image/png": "[encoded data removed]",
      "text/plain": [
       "<Figure size 648x216 with 1 Axes>"
      ]
     },
     "metadata": {
      "needs_background": "light"
     },
     "output_type": "display_data"
    }
   ],
   "source": [
    "shap.force_plot(e.expected_value, shap_values[1], rec_test_original[0],\n",
    "                feature_names = names, matplotlib = True,\n",
    "                figsize = (9,3), out_names = 'predicted')"
   ]
  }
 ],
 "metadata": {
  "kernelspec": {
   "display_name": "Python 3",
   "language": "python",
   "name": "python3"
  },
  "language_info": {
   "codemirror_mode": {
    "name": "ipython",
    "version": 3
   },
   "file_extension": ".py",
   "mimetype": "text/x-python",
   "name": "python",
   "nbconvert_exporter": "python",
   "pygments_lexer": "ipython3",
   "version": "3.7.6"
  }
 },
 "nbformat": 4,
 "nbformat_minor": 4
}
